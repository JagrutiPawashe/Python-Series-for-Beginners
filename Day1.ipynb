{
  "cells": [
    {
      "cell_type": "markdown",
      "id": "24d1510b",
      "metadata": {
        "id": "24d1510b"
      },
      "source": [
        "## **This is a Python Class**"
      ]
    },
    {
      "cell_type": "code",
      "execution_count": null,
      "id": "d7686e59",
      "metadata": {
        "id": "d7686e59",
        "outputId": "1fcc4560-1831-4d12-8020-dcc35bddfc7d"
      },
      "outputs": [
        {
          "name": "stdout",
          "output_type": "stream",
          "text": [
            "Hello World!\n"
          ]
        }
      ],
      "source": [
        "print(\"Hello World!\")"
      ]
    },
    {
      "cell_type": "markdown",
      "id": "430523a9",
      "metadata": {
        "id": "430523a9"
      },
      "source": [
        "### Variable\n",
        "Variable is an identifier which holds some value.Variables refers data in a computer memory.  \n",
        "Python Variable Name Rules:\n",
        "\n",
        "* A variable name must start with a letter or the underscore character\n",
        "* A variable name cannot start with a number\n",
        "* A variable name can only contain alpha-numeric characters and underscores (A-z, 0-9, and _ )\n",
        "* A variable name cannot contain any special character except underscore(_).\n",
        "* Variable names are case-sensitive (firstname, Firstname, FirstName and FIRSTNAME) are different variables)\n",
        "* Variable name cannot be with an in-built keyword\n"
      ]
    },
    {
      "cell_type": "code",
      "execution_count": null,
      "id": "2241850c",
      "metadata": {
        "id": "2241850c",
        "outputId": "b165cfef-9822-4eaf-db2a-47d5ca195e1a"
      },
      "outputs": [
        {
          "name": "stdout",
          "output_type": "stream",
          "text": [
            "Jagruti\n"
          ]
        }
      ],
      "source": [
        "#RULE1\n",
        "name = \"Jagruti\"\n",
        "print(name)\n",
        "_lastname = \"Pawashe\""
      ]
    },
    {
      "cell_type": "code",
      "execution_count": null,
      "id": "ec72d271",
      "metadata": {
        "id": "ec72d271",
        "outputId": "f1767a32-40ce-450a-f2f2-92a416769fea"
      },
      "outputs": [
        {
          "name": "stdout",
          "output_type": "stream",
          "text": [
            "10\n"
          ]
        },
        {
          "ename": "NameError",
          "evalue": "name 'num' is not defined",
          "output_type": "error",
          "traceback": [
            "\u001b[1;31m---------------------------------------------------------------------------\u001b[0m",
            "\u001b[1;31mNameError\u001b[0m                                 Traceback (most recent call last)",
            "Cell \u001b[1;32mIn[10], line 4\u001b[0m\n\u001b[0;32m      2\u001b[0m num1 \u001b[38;5;241m=\u001b[39m \u001b[38;5;241m10\u001b[39m\n\u001b[0;32m      3\u001b[0m \u001b[38;5;28mprint\u001b[39m(num1)\n\u001b[1;32m----> 4\u001b[0m \u001b[38;5;28mprint\u001b[39m(num)\n",
            "\u001b[1;31mNameError\u001b[0m: name 'num' is not defined"
          ]
        }
      ],
      "source": [
        "#RULE2\n",
        "num1 = 10\n",
        "print(num1)\n",
        "print(num)"
      ]
    },
    {
      "cell_type": "code",
      "execution_count": null,
      "id": "a871462f",
      "metadata": {
        "id": "a871462f"
      },
      "outputs": [],
      "source": []
    },
    {
      "cell_type": "code",
      "execution_count": null,
      "id": "86925f13",
      "metadata": {
        "id": "86925f13",
        "outputId": "caf6226e-b101-4838-a71f-721fad878b88"
      },
      "outputs": [
        {
          "name": "stdout",
          "output_type": "stream",
          "text": [
            "25 30\n",
            "30\n"
          ]
        }
      ],
      "source": [
        "#RULE3\n",
        "num_2 = 25\n",
        "num_3 = 30\n",
        "print(num_2,num_3)\n",
        "print(num_3)"
      ]
    },
    {
      "cell_type": "code",
      "execution_count": null,
      "id": "dc0abe98",
      "metadata": {
        "id": "dc0abe98"
      },
      "outputs": [],
      "source": []
    },
    {
      "cell_type": "code",
      "execution_count": null,
      "id": "b435b575",
      "metadata": {
        "id": "b435b575"
      },
      "outputs": [],
      "source": [
        "# RULE4\n",
        "first_name = \"Jagruti\""
      ]
    },
    {
      "cell_type": "code",
      "execution_count": null,
      "id": "5df43473",
      "metadata": {
        "id": "5df43473",
        "outputId": "1e495c00-4739-4894-dae6-fbb10619e86f"
      },
      "outputs": [
        {
          "name": "stdout",
          "output_type": "stream",
          "text": [
            "Riya\n",
            "Jagruti\n"
          ]
        }
      ],
      "source": [
        "# RULE5\n",
        "Firstname = \"Jagruti\"\n",
        "firstname = \"Riya\"\n",
        "print(firstname)\n",
        "print(Firstname)"
      ]
    },
    {
      "cell_type": "code",
      "execution_count": null,
      "id": "fbcd08bd",
      "metadata": {
        "id": "fbcd08bd",
        "outputId": "7e6c6ce1-528c-4dbe-8377-0afdfd314f04"
      },
      "outputs": [
        {
          "ename": "SyntaxError",
          "evalue": "cannot assign to True (2954359612.py, line 2)",
          "output_type": "error",
          "traceback": [
            "\u001b[1;36m  Cell \u001b[1;32mIn[24], line 2\u001b[1;36m\u001b[0m\n\u001b[1;33m    True = 20\u001b[0m\n\u001b[1;37m    ^\u001b[0m\n\u001b[1;31mSyntaxError\u001b[0m\u001b[1;31m:\u001b[0m cannot assign to True\n"
          ]
        }
      ],
      "source": [
        "# RULE6\n",
        "try = 20\n",
        "print(try)"
      ]
    },
    {
      "cell_type": "code",
      "execution_count": null,
      "id": "3a73b80e",
      "metadata": {
        "id": "3a73b80e"
      },
      "outputs": [],
      "source": []
    },
    {
      "cell_type": "markdown",
      "id": "cbaf4ea7",
      "metadata": {
        "id": "cbaf4ea7"
      },
      "source": [
        "When the Python itself automatically considers the data type of the values it is said to be 'implicit' in nature. When the programmers specifies what kind of data to be present in the variables then it is said to be 'explicit' in nature."
      ]
    },
    {
      "cell_type": "code",
      "execution_count": null,
      "id": "0c83aca2",
      "metadata": {
        "id": "0c83aca2",
        "outputId": "4307ce4b-cd7c-48a4-bcd9-6672c8ef7dd6"
      },
      "outputs": [
        {
          "name": "stdout",
          "output_type": "stream",
          "text": [
            "<class 'str'>\n",
            "am\n"
          ]
        }
      ],
      "source": [
        "a = 123456.6789\n",
        "#print(type(a))\n",
        "\n",
        "a = \"am\"\n",
        "print(type(a))\n",
        "print(a)\n"
      ]
    },
    {
      "cell_type": "code",
      "execution_count": null,
      "id": "fa522db8",
      "metadata": {
        "id": "fa522db8",
        "outputId": "7123af50-91e7-4d02-baf0-a6fcdee0cebb"
      },
      "outputs": [
        {
          "name": "stdout",
          "output_type": "stream",
          "text": [
            "<class 'float'>\n",
            "123456\n",
            "<class 'int'>\n"
          ]
        }
      ],
      "source": [
        "a = 123456.6789\n",
        "print(type(a))\n",
        "b = int(a)\n",
        "print(b)\n",
        "print(type(b))"
      ]
    },
    {
      "cell_type": "code",
      "execution_count": null,
      "id": "dec7c0ad",
      "metadata": {
        "id": "dec7c0ad",
        "outputId": "666c1d86-7ec7-41b5-f400-633322e16218"
      },
      "outputs": [
        {
          "name": "stdout",
          "output_type": "stream",
          "text": [
            "<class 'str'>\n"
          ]
        },
        {
          "ename": "ValueError",
          "evalue": "invalid literal for int() with base 10: '1235.6767'",
          "output_type": "error",
          "traceback": [
            "\u001b[1;31m---------------------------------------------------------------------------\u001b[0m",
            "\u001b[1;31mValueError\u001b[0m                                Traceback (most recent call last)",
            "Cell \u001b[1;32mIn[43], line 3\u001b[0m\n\u001b[0;32m      1\u001b[0m b \u001b[38;5;241m=\u001b[39m \u001b[38;5;124m\"\u001b[39m\u001b[38;5;124m1235.6767\u001b[39m\u001b[38;5;124m\"\u001b[39m\n\u001b[0;32m      2\u001b[0m \u001b[38;5;28mprint\u001b[39m(\u001b[38;5;28mtype\u001b[39m(b))\n\u001b[1;32m----> 3\u001b[0m c \u001b[38;5;241m=\u001b[39m \u001b[38;5;28mint\u001b[39m(b)\n\u001b[0;32m      4\u001b[0m \u001b[38;5;28mprint\u001b[39m(c)\n",
            "\u001b[1;31mValueError\u001b[0m: invalid literal for int() with base 10: '1235.6767'"
          ]
        }
      ],
      "source": [
        "b = \"1235.6767\"\n",
        "print(type(b))\n",
        "c = int(b)\n",
        "print(c)"
      ]
    },
    {
      "cell_type": "code",
      "execution_count": null,
      "id": "1e6cd0d3",
      "metadata": {
        "id": "1e6cd0d3"
      },
      "outputs": [],
      "source": []
    },
    {
      "cell_type": "markdown",
      "id": "4981c2d3",
      "metadata": {
        "id": "4981c2d3"
      },
      "source": [
        "### Built-in functions -\n",
        "In python there are some pre-defined code logics to perform some specific task."
      ]
    },
    {
      "cell_type": "code",
      "execution_count": null,
      "id": "a135a3d8",
      "metadata": {
        "id": "a135a3d8",
        "outputId": "d5cd2586-b140-436a-9e78-0d5ac4460482"
      },
      "outputs": [
        {
          "name": "stdout",
          "output_type": "stream",
          "text": [
            "Jagruti Pawashe\n"
          ]
        }
      ],
      "source": [
        "a = \"Jagruti Pawashe\"\n",
        "print(a)"
      ]
    },
    {
      "cell_type": "code",
      "execution_count": null,
      "id": "6b761de3",
      "metadata": {
        "id": "6b761de3",
        "outputId": "fba49946-ad55-4fea-bc36-6b813e984da8"
      },
      "outputs": [
        {
          "name": "stdout",
          "output_type": "stream",
          "text": [
            "The answer is  50\n"
          ]
        }
      ],
      "source": [
        "print(\"The answer is \",10*5)"
      ]
    },
    {
      "cell_type": "code",
      "execution_count": null,
      "id": "e6bd74cb",
      "metadata": {
        "id": "e6bd74cb",
        "outputId": "a951af3b-157e-4c69-84a2-94fbdad9588c"
      },
      "outputs": [
        {
          "name": "stdout",
          "output_type": "stream",
          "text": [
            "{'name', 'Jagruti'}\n"
          ]
        },
        {
          "data": {
            "text/plain": [
              "complex"
            ]
          },
          "execution_count": 60,
          "metadata": {},
          "output_type": "execute_result"
        }
      ],
      "source": [
        "new = {\"name\",\"Jagruti\"}\n",
        "print(new)\n",
        "type(10+6j)\n"
      ]
    },
    {
      "cell_type": "code",
      "execution_count": null,
      "id": "286548ee",
      "metadata": {
        "id": "286548ee",
        "outputId": "26dac699-cde1-4aae-e52d-ede1298faf52"
      },
      "outputs": [
        {
          "data": {
            "text/plain": [
              "9"
            ]
          },
          "execution_count": 68,
          "metadata": {},
          "output_type": "execute_result"
        }
      ],
      "source": [
        "data = \"avbnghb, \"\n",
        "len(data)"
      ]
    },
    {
      "cell_type": "code",
      "execution_count": null,
      "id": "aa2df12e",
      "metadata": {
        "id": "aa2df12e",
        "outputId": "c053f099-ca9f-4125-8816-2062f0e65295"
      },
      "outputs": [
        {
          "name": "stdout",
          "output_type": "stream",
          "text": [
            "Enter your 1st name:Jagruti\n"
          ]
        }
      ],
      "source": [
        "name = input(\"Enter your 1st name:\")\n"
      ]
    },
    {
      "cell_type": "code",
      "execution_count": null,
      "id": "4a5952df",
      "metadata": {
        "id": "4a5952df",
        "outputId": "00e163d0-3760-4a8c-a529-32f6120faaa5"
      },
      "outputs": [
        {
          "name": "stdout",
          "output_type": "stream",
          "text": [
            "enter your no1:20\n",
            "<class 'int'>\n",
            "enter your no2:30\n",
            "<class 'int'>\n",
            "50\n"
          ]
        }
      ],
      "source": [
        "num1 = int(input(\"enter your no1:\"))\n",
        "print(type(num1))\n",
        "num2 = int(input(\"enter your no2:\"))\n",
        "print(type(num2))\n",
        "\n",
        "print(num1+num2)"
      ]
    },
    {
      "cell_type": "markdown",
      "id": "e7d0acdc",
      "metadata": {
        "id": "e7d0acdc"
      },
      "source": [
        "Find the perimeter of triangle where the sides are taken as user input"
      ]
    },
    {
      "cell_type": "code",
      "execution_count": null,
      "id": "c4c631bd",
      "metadata": {
        "id": "c4c631bd"
      },
      "outputs": [],
      "source": []
    },
    {
      "cell_type": "code",
      "execution_count": null,
      "id": "28b17f3e",
      "metadata": {
        "id": "28b17f3e"
      },
      "outputs": [],
      "source": []
    },
    {
      "cell_type": "code",
      "execution_count": null,
      "id": "c4cea659",
      "metadata": {
        "id": "c4cea659"
      },
      "outputs": [],
      "source": []
    }
  ],
  "metadata": {
    "kernelspec": {
      "display_name": "Python 3 (ipykernel)",
      "language": "python",
      "name": "python3"
    },
    "language_info": {
      "codemirror_mode": {
        "name": "ipython",
        "version": 3
      },
      "file_extension": ".py",
      "mimetype": "text/x-python",
      "name": "python",
      "nbconvert_exporter": "python",
      "pygments_lexer": "ipython3",
      "version": "3.11.5"
    },
    "colab": {
      "provenance": []
    }
  },
  "nbformat": 4,
  "nbformat_minor": 5
}